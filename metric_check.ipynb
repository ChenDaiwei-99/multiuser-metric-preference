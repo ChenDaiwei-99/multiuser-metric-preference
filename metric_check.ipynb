{
 "cells": [
  {
   "cell_type": "code",
   "execution_count": 5,
   "metadata": {},
   "outputs": [
    {
     "name": "stdout",
     "output_type": "stream",
     "text": [
      "The autoreload extension is already loaded. To reload it, use:\n",
      "  %reload_ext autoreload\n"
     ]
    }
   ],
   "source": [
    "import numpy as np\n",
    "import matplotlib.pyplot as plt\n",
    "import math\n",
    "import torch\n",
    "from torch.utils.data import Dataset, DataLoader\n",
    "\n",
    "from tqdm import tqdm\n",
    "import os\n",
    "import sys\n",
    "import re\n",
    "\n",
    "# customized packages\n",
    "import dataset\n",
    "import utils\n",
    "from mlp import projector\n",
    "from metricpref_learner import MetricPrefLearner\n",
    "\n",
    "%load_ext autoreload\n",
    "%autoreload 2"
   ]
  },
  {
   "cell_type": "markdown",
   "metadata": {},
   "source": [
    "# First Experiment\n",
    "check the relative_metric_error and the relative_ideal_point error on the simulated dataset\n",
    "\n",
    "(dataset hyperparameters are the same as the original paper)"
   ]
  },
  {
   "cell_type": "code",
   "execution_count": 6,
   "metadata": {},
   "outputs": [],
   "source": [
    "########### hyperparameters ################\n",
    "feature_dim = 10\n",
    "metric_rank = 1\n",
    "num_items = 100\n",
    "num_users = 10\n",
    "num_pairs_per_user = 1000"
   ]
  },
  {
   "cell_type": "code",
   "execution_count": 4,
   "metadata": {},
   "outputs": [],
   "source": [
    "############ normal dataset ################\n",
    "# d: ambient dimension\n",
    "# r: metric rank\n",
    "# n: number of items\n",
    "# N: number of users\n",
    "# m: number of measurements per user\n",
    "# noise_type: type of noise in measurement model, from {'none', 'logistic'}\n",
    "# noise_param: noise parameter, if relevant (in 'logistic' noise, is noise scaling parameter)\n",
    "# X: X: if None, generates new data. Else, specifies item matrix\n",
    "\n",
    "pms = {'d': feature_dim, \n",
    "       'r': metric_rank, \n",
    "       'n': num_items,\n",
    "       'N': num_users, \n",
    "       'm':1000,     # totally 1000 num_pairs_per_user\n",
    "       'noise_type':'none', \n",
    "       'noise_param':None, \n",
    "       'X':None}\n",
    "\n",
    "normal_dataset = dataset.Dataset(dataset_type='Normal', d=pms['d'], \n",
    "                                 r=pms['d'], n=pms['n'], \n",
    "                                 N=pms['N'], m=pms['m'], \n",
    "                                 noise_type=pms['noise_type'], \n",
    "                                 noise_param=pms['noise_param'], X=None)\n",
    "normal_data = normal_dataset.getAllData()\n",
    "\n",
    "items, observations, true_y, true_M, true_u = normal_data['X'], normal_data['S'], normal_data['Y'], normal_data['M'], normal_data['U']\n",
    "obs_train, obs_test, Y_train, Y_test = normal_dataset.getTrainTestSplit(train_size=0.75)"
   ]
  },
  {
   "cell_type": "code",
   "execution_count": null,
   "metadata": {},
   "outputs": [],
   "source": []
  },
  {
   "cell_type": "code",
   "execution_count": null,
   "metadata": {},
   "outputs": [],
   "source": []
  },
  {
   "cell_type": "code",
   "execution_count": null,
   "metadata": {},
   "outputs": [],
   "source": []
  }
 ],
 "metadata": {
  "kernelspec": {
   "display_name": "rlhf",
   "language": "python",
   "name": "python3"
  },
  "language_info": {
   "codemirror_mode": {
    "name": "ipython",
    "version": 3
   },
   "file_extension": ".py",
   "mimetype": "text/x-python",
   "name": "python",
   "nbconvert_exporter": "python",
   "pygments_lexer": "ipython3",
   "version": "3.9.7"
  }
 },
 "nbformat": 4,
 "nbformat_minor": 2
}
