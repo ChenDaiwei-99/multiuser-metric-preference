{
 "cells": [
  {
   "cell_type": "code",
   "execution_count": 348,
   "metadata": {},
   "outputs": [
    {
     "name": "stdout",
     "output_type": "stream",
     "text": [
      "The autoreload extension is already loaded. To reload it, use:\n",
      "  %reload_ext autoreload\n"
     ]
    }
   ],
   "source": [
    "import numpy as np \n",
    "import torch\n",
    "import torch.nn as nn\n",
    "import torch.nn.functional as F\n",
    "from torch.utils.data import Dataset, TensorDataset, DataLoader\n",
    "\n",
    "import os\n",
    "import sys\n",
    "import yaml\n",
    "from tqdm import tqdm\n",
    "import scipy.io as sio\n",
    "import matplotlib.pyplot as plt\n",
    "\n",
    "# customized packages\n",
    "import dataset\n",
    "import math\n",
    "import utils\n",
    "from mlp import projector\n",
    "\n",
    "\n",
    "%load_ext autoreload\n",
    "%autoreload 2"
   ]
  },
  {
   "cell_type": "code",
   "execution_count": 105,
   "metadata": {},
   "outputs": [],
   "source": [
    "############ color dataset ################\n",
    "N = 48\n",
    "color_dataset = dataset.Dataset(dataset_type='Color',color_path='./CPdata.mat', N=N)\n",
    "color_data = color_dataset.getAllData()\n",
    "\n",
    "############ normal dataset ################\n",
    "# d: ambient dimension\n",
    "# r: metric rank\n",
    "# n: number of items\n",
    "# N: number of users\n",
    "# m: number of measurements per user\n",
    "# noise_type: type of noise in measurement model, from {'none', 'logistic'}\n",
    "# noise_param: noise parameter, if relevant (in 'logistic' noise, is noise scaling parameter)\n",
    "# X: X: if None, generates new data. Else, specifies item matrix\n",
    "\n",
    "pms = {'d': 2, 'r': 2, 'n': 100,'N': 3, 'm':30, 'noise_type':'none', 'noise_param':None, 'X':None}\n",
    "N = pms['N']\n",
    "\n",
    "# train_frac = 0.5 # train/test split fraction, specifically equal to # train points / total data\n",
    "# n_splits =  5 # k-fold number of splits (defunct)\n",
    "# loss_fun = 'logistic' # loss function for ERM\n",
    "# use_oracle = True # use oracle hyperparameters\n",
    "# hyper_sweep = [] # (relative) hyperparameter magnitudes for hyperparameter sweep\n",
    "# m_train = 300 # number of training comparisons per user\n",
    "# m_train_res = 30\n",
    "\n",
    "normal_dataset = dataset.Dataset(dataset_type='Normal', d=pms['d'], \n",
    "                                 r=pms['d'], n=pms['n'], \n",
    "                                 N=pms['N'], m=pms['m'], \n",
    "                                 noise_type=pms['noise_type'], \n",
    "                                 noise_param=pms['noise_param'], X=None)\n",
    "\n",
    "normal_data = normal_dataset.getAllData()\n",
    "\n",
    "items = normal_data['X']\n",
    "observations = normal_data['S']\n",
    "true_y = normal_data['Y']\n",
    "true_M = normal_data['M']\n",
    "true_u = normal_data['U']"
   ]
  },
  {
   "cell_type": "code",
   "execution_count": 109,
   "metadata": {},
   "outputs": [],
   "source": [
    "# initialize both M and u_s\n",
    "net = projector(feature_dim=2, num_layer=1, num_class=2, bias_ind=False)\n",
    "us = []\n",
    "for i in range(N):\n",
    "    us.append(torch.randn(3,requires_grad=True))"
   ]
  },
  {
   "cell_type": "code",
   "execution_count": 175,
   "metadata": {},
   "outputs": [],
   "source": [
    "# true prediction (just for verification) original version\n",
    "delta_s = []\n",
    "pred_ys = []\n",
    "for obs in observations:\n",
    "    user_id, comparison_pair = obs\n",
    "    x_i, x_j = comparison_pair\n",
    "    delta = (items[:,x_i]-true_u[:,user_id]).T @ true_M @ (items[:,x_i]-true_u[:,user_id]) - (items[:,x_j]-true_u[:,user_id]).T @ true_M @ (items[:,x_j]-true_u[:,user_id])\n",
    "    delta_s.append(delta)\n",
    "    if delta > 0:\n",
    "        pred_y = 1\n",
    "    else:\n",
    "        pred_y = -1\n",
    "    pred_ys.append(pred_y)\n",
    "assert np.all(pred_ys == true_y)"
   ]
  },
  {
   "cell_type": "code",
   "execution_count": 363,
   "metadata": {},
   "outputs": [],
   "source": [
    "L = np.linalg.cholesky(true_M)  # true_M = L @ L.T\n",
    "with torch.no_grad():\n",
    "    net.layers.weight.copy_(torch.Tensor(L.T))"
   ]
  },
  {
   "cell_type": "code",
   "execution_count": 178,
   "metadata": {},
   "outputs": [],
   "source": [
    "# true prediction (just for verification) but pytorch version\n",
    "delta_s_torch = []\n",
    "pred_ys_torch = []\n",
    "for obs in observations:\n",
    "    user_id, comparison_pair = obs\n",
    "    x_i, x_j = comparison_pair\n",
    "    x_i, x_j = torch.Tensor(items[:,x_i]), torch.Tensor(items[:,x_j])\n",
    "    u = torch.Tensor(true_u[:,user_id])\n",
    "    with torch.no_grad():\n",
    "        ele_1 = net(x_i-u)\n",
    "        ele_2 = net(x_j-u)\n",
    "    delta = ele_1.T @ ele_1 - ele_2.T @ ele_2\n",
    "    delta_s_torch.append(delta)\n",
    "    if delta > 0:\n",
    "        pred_y = 1\n",
    "    else:\n",
    "        pred_y = -1\n",
    "    pred_ys_torch.append(pred_y)\n",
    "\n",
    "assert np.all(pred_ys_torch == true_y)"
   ]
  },
  {
   "cell_type": "code",
   "execution_count": 394,
   "metadata": {},
   "outputs": [],
   "source": [
    "# attempt 1: update only M but no user update! (use the true u here)\n",
    "epochs = 50\n",
    "bs = 5\n",
    "lr = 1e-3\n",
    "momentum = 0.9\n",
    "weight_decay = 0.001\n",
    "\n",
    "############ initialize both M and u_s ################\n",
    "net = projector(feature_dim=2, num_layer=1, num_class=2, bias_ind=False)\n",
    "us = []\n",
    "for i in range(N):\n",
    "    us.append(torch.randn(3,requires_grad=True))\n",
    "\n",
    "\n",
    "############ define loss and optimizer ################\n",
    "def hinge_loss(outputs, targets):   # written by the smart gpt-4\n",
    "    \"\"\"\n",
    "    Hinge loss for binary classification.\n",
    "\n",
    "    Parameters:\n",
    "    outputs (torch.Tensor): Output from the model (before activation function like sigmoid).\n",
    "    targets (torch.Tensor): Ground truth labels, expected to be +1 or -1.\n",
    "\n",
    "    Returns:\n",
    "    torch.Tensor: Calculated hinge loss.\n",
    "    \"\"\"\n",
    "    hinge_loss_value = 1 - targets * outputs\n",
    "    hinge_loss_value = torch.clamp(hinge_loss_value, min=0)\n",
    "    return hinge_loss_value.mean()\n",
    "\n",
    "loss_fn = hinge_loss\n",
    "\n",
    "optimizer = torch.optim.SGD(net.parameters(),lr=lr,momentum=momentum,weight_decay=weight_decay)\n",
    "\n",
    "############ define dataloader ################\n",
    "class CustomDataset(Dataset):   # written by the smart gpt-4\n",
    "    def __init__(self, data_list):\n",
    "        self.data_list = data_list\n",
    "\n",
    "    def __len__(self):\n",
    "        return len(self.data_list)\n",
    "\n",
    "    def __getitem__(self, idx):\n",
    "        return self.data_list[idx]\n",
    "dataset = CustomDataset(list(zip(observations,true_y)))\n",
    "dataloader = DataLoader(dataset, batch_size=bs, shuffle=True)\n",
    "\n",
    "############ define training function ################\n",
    "\n",
    "\n",
    "\n",
    "\n",
    "############ define val function ################\n",
    "\n",
    "\n"
   ]
  },
  {
   "cell_type": "code",
   "execution_count": null,
   "metadata": {},
   "outputs": [],
   "source": []
  },
  {
   "cell_type": "code",
   "execution_count": 395,
   "metadata": {},
   "outputs": [],
   "source": [
    "loss_record = []\n",
    "accu_record = []\n",
    "for ep in range(epochs):\n",
    "    for x,y in dataloader:\n",
    "        optimizer.zero_grad()\n",
    "\n",
    "        user_ids, x_is, x_js = x[0], x[1][0], x[1][1]\n",
    "        # print(x)\n",
    "        # print(user_ids)\n",
    "        # print(x_is)\n",
    "        # print(x_js)\n",
    "        # print(y)\n",
    "\n",
    "        x_is, x_js = torch.Tensor(items[:,x_is]), torch.Tensor(items[:,x_js])\n",
    "        us = torch.Tensor(true_u[:,user_ids])\n",
    "        # print('x_is', x_is)\n",
    "        # print('x_js', x_js)\n",
    "        # print('us', us)\n",
    "\n",
    "        x_is_minus_us = (x_is - us).T\n",
    "        x_js_minus_us = (x_js - us).T\n",
    "        \n",
    "        ele_1 = net(x_is_minus_us)\n",
    "        ele_2 = net(x_js_minus_us)\n",
    "\n",
    "        # print(ele_1.shape)\n",
    "        # print(ele_2.shape)\n",
    "\n",
    "        delta = torch.sum(ele_1 * ele_1, dim=1) - torch.sum(ele_2 * ele_2, dim=1)\n",
    "        \n",
    "        # print(delta)\n",
    "        acc_batch = torch.sum((delta * y)>0)\n",
    "        # print(f'prediction_accu: {acc_batch/bs}')\n",
    "\n",
    "        loss = loss_fn(delta,y)\n",
    "        # print(loss)\n",
    "\n",
    "        loss_record.append(loss.item())\n",
    "        accu_record.append(acc_batch/bs)\n",
    "        # Backward and optimize\n",
    "        loss.backward()\n",
    "        optimizer.step()"
   ]
  },
  {
   "cell_type": "code",
   "execution_count": null,
   "metadata": {},
   "outputs": [],
   "source": []
  },
  {
   "cell_type": "code",
   "execution_count": 396,
   "metadata": {},
   "outputs": [
    {
     "data": {
      "text/plain": [
       "[<matplotlib.lines.Line2D at 0x111f95820>]"
      ]
     },
     "execution_count": 396,
     "metadata": {},
     "output_type": "execute_result"
    },
    {
     "data": {
      "image/png": "[encoded data removed]",
      "text/plain": [
       "<Figure size 640x480 with 1 Axes>"
      ]
     },
     "metadata": {},
     "output_type": "display_data"
    }
   ],
   "source": [
    "plt.plot(loss_record)"
   ]
  },
  {
   "cell_type": "code",
   "execution_count": 397,
   "metadata": {},
   "outputs": [
    {
     "data": {
      "text/plain": [
       "[<matplotlib.lines.Line2D at 0x111232280>]"
      ]
     },
     "execution_count": 397,
     "metadata": {},
     "output_type": "execute_result"
    },
    {
     "data": {
      "image/png": "[encoded data removed]",
      "text/plain": [
       "<Figure size 640x480 with 1 Axes>"
      ]
     },
     "metadata": {},
     "output_type": "display_data"
    }
   ],
   "source": [
    "plt.plot(accu_record)"
   ]
  },
  {
   "cell_type": "code",
   "execution_count": null,
   "metadata": {},
   "outputs": [],
   "source": []
  },
  {
   "cell_type": "code",
   "execution_count": null,
   "metadata": {},
   "outputs": [],
   "source": []
  },
  {
   "cell_type": "code",
   "execution_count": null,
   "metadata": {},
   "outputs": [],
   "source": [
    "user_id, comparison_pair = obs\n",
    "x_i, x_j = comparison_pair\n",
    "x_i, x_j = torch.Tensor(items[:,x_i]), torch.Tensor(items[:,x_j])\n",
    "u = torch.Tensor(true_u[:,user_id])\n",
    "with torch.no_grad():\n",
    "    ele_1 = net(x_i-u)\n",
    "    ele_2 = net(x_j-u)\n",
    "delta = ele_1.T @ ele_1 - ele_2.T @ ele_2"
   ]
  },
  {
   "cell_type": "code",
   "execution_count": 224,
   "metadata": {},
   "outputs": [
    {
     "data": {
      "text/plain": [
       "[((0, (39, 82)), 1.0),\n",
       " ((0, (26, 57)), 1.0),\n",
       " ((0, (74, 36)), -1.0),\n",
       " ((0, (13, 80)), -1.0),\n",
       " ((0, (50, 55)), -1.0),\n",
       " ((0, (72, 34)), 1.0),\n",
       " ((0, (59, 50)), 1.0),\n",
       " ((0, (4, 25)), -1.0),\n",
       " ((0, (81, 69)), 1.0),\n",
       " ((0, (80, 1)), 1.0),\n",
       " ((0, (54, 68)), -1.0),\n",
       " ((0, (40, 52)), 1.0),\n",
       " ((0, (26, 32)), -1.0),\n",
       " ((0, (9, 6)), -1.0),\n",
       " ((0, (37, 39)), -1.0),\n",
       " ((0, (2, 55)), -1.0),\n",
       " ((0, (67, 51)), -1.0),\n",
       " ((0, (66, 59)), -1.0),\n",
       " ((0, (4, 84)), -1.0),\n",
       " ((0, (77, 41)), -1.0),\n",
       " ((0, (96, 80)), -1.0),\n",
       " ((0, (1, 5)), -1.0),\n",
       " ((0, (62, 66)), 1.0),\n",
       " ((0, (34, 28)), -1.0),\n",
       " ((0, (77, 21)), -1.0),\n",
       " ((0, (1, 90)), 1.0),\n",
       " ((0, (82, 33)), -1.0),\n",
       " ((0, (65, 43)), -1.0),\n",
       " ((0, (78, 80)), -1.0),\n",
       " ((0, (99, 72)), 1.0),\n",
       " ((1, (72, 64)), -1.0),\n",
       " ((1, (5, 49)), 1.0),\n",
       " ((1, (95, 53)), 1.0),\n",
       " ((1, (41, 42)), 1.0),\n",
       " ((1, (52, 50)), -1.0),\n",
       " ((1, (76, 2)), -1.0),\n",
       " ((1, (71, 88)), -1.0),\n",
       " ((1, (27, 59)), 1.0),\n",
       " ((1, (94, 89)), -1.0),\n",
       " ((1, (31, 92)), 1.0),\n",
       " ((1, (37, 13)), -1.0),\n",
       " ((1, (52, 78)), 1.0),\n",
       " ((1, (90, 35)), -1.0),\n",
       " ((1, (23, 54)), -1.0),\n",
       " ((1, (87, 14)), 1.0),\n",
       " ((1, (17, 46)), -1.0),\n",
       " ((1, (2, 21)), -1.0),\n",
       " ((1, (5, 14)), -1.0),\n",
       " ((1, (51, 77)), -1.0),\n",
       " ((1, (43, 56)), 1.0),\n",
       " ((1, (47, 80)), 1.0),\n",
       " ((1, (49, 97)), -1.0),\n",
       " ((1, (28, 85)), -1.0),\n",
       " ((1, (84, 18)), 1.0),\n",
       " ((1, (60, 8)), 1.0),\n",
       " ((1, (34, 45)), 1.0),\n",
       " ((1, (18, 74)), -1.0),\n",
       " ((1, (6, 93)), 1.0),\n",
       " ((1, (78, 48)), -1.0),\n",
       " ((1, (66, 27)), 1.0),\n",
       " ((2, (89, 77)), 1.0),\n",
       " ((2, (28, 21)), 1.0),\n",
       " ((2, (57, 0)), -1.0),\n",
       " ((2, (19, 32)), -1.0),\n",
       " ((2, (90, 99)), -1.0),\n",
       " ((2, (79, 61)), 1.0),\n",
       " ((2, (26, 67)), -1.0),\n",
       " ((2, (93, 28)), -1.0),\n",
       " ((2, (73, 47)), 1.0),\n",
       " ((2, (20, 76)), 1.0),\n",
       " ((2, (78, 45)), -1.0),\n",
       " ((2, (51, 78)), 1.0),\n",
       " ((2, (22, 14)), -1.0),\n",
       " ((2, (72, 81)), 1.0),\n",
       " ((2, (22, 68)), -1.0),\n",
       " ((2, (25, 68)), 1.0),\n",
       " ((2, (86, 51)), -1.0),\n",
       " ((2, (94, 56)), -1.0),\n",
       " ((2, (63, 87)), 1.0),\n",
       " ((2, (4, 99)), -1.0),\n",
       " ((2, (46, 22)), 1.0),\n",
       " ((2, (71, 4)), 1.0),\n",
       " ((2, (65, 96)), -1.0),\n",
       " ((2, (6, 66)), 1.0),\n",
       " ((2, (11, 24)), 1.0),\n",
       " ((2, (89, 90)), 1.0),\n",
       " ((2, (90, 14)), -1.0),\n",
       " ((2, (46, 9)), -1.0),\n",
       " ((2, (33, 1)), 1.0),\n",
       " ((2, (63, 97)), 1.0)]"
      ]
     },
     "execution_count": 224,
     "metadata": {},
     "output_type": "execute_result"
    }
   ],
   "source": [
    "list(zip(observations,true_y))"
   ]
  },
  {
   "cell_type": "code",
   "execution_count": null,
   "metadata": {},
   "outputs": [],
   "source": []
  },
  {
   "cell_type": "code",
   "execution_count": null,
   "metadata": {},
   "outputs": [],
   "source": []
  }
 ],
 "metadata": {
  "kernelspec": {
   "display_name": "rlhf",
   "language": "python",
   "name": "python3"
  },
  "language_info": {
   "codemirror_mode": {
    "name": "ipython",
    "version": 3
   },
   "file_extension": ".py",
   "mimetype": "text/x-python",
   "name": "python",
   "nbconvert_exporter": "python",
   "pygments_lexer": "ipython3",
   "version": "3.9.7"
  }
 },
 "nbformat": 4,
 "nbformat_minor": 2
}
